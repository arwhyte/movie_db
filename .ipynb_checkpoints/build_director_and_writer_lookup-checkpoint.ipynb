{
 "cells": [
  {
   "cell_type": "code",
   "execution_count": 1,
   "metadata": {},
   "outputs": [
    {
     "name": "stderr",
     "output_type": "stream",
     "text": [
      "c:\\python37\\lib\\site-packages\\ipykernel\\parentpoller.py:116: UserWarning: Parent poll failed.  If the frontend dies,\n",
      "                the kernel may be left running.  Please let us know\n",
      "                about your system (bitness, Python, etc.) at\n",
      "                ipython-dev@scipy.org\n",
      "  ipython-dev@scipy.org\"\"\")\n"
     ]
    }
   ],
   "source": [
    "#THESE SCRIPTS TAKE US FROM RAW DATA TO THE TABLES WE HAVE IN OUR SCHEMA - SEE movie_db_model.png"
   ]
  },
  {
   "cell_type": "code",
   "execution_count": 1,
   "metadata": {},
   "outputs": [],
   "source": [
    "import pandas as pd\n",
    "import numpy as np\n",
    "from itertools import chain"
   ]
  },
  {
   "cell_type": "code",
   "execution_count": 2,
   "metadata": {},
   "outputs": [
    {
     "name": "stdout",
     "output_type": "stream",
     "text": [
      "['tconst', 'directors', 'writers']\n"
     ]
    },
    {
     "ename": "NameError",
     "evalue": "name 'df_adirector' is not defined",
     "output_type": "error",
     "traceback": [
      "\u001b[1;31m---------------------------------------------------------------------------\u001b[0m",
      "\u001b[1;31mNameError\u001b[0m                                 Traceback (most recent call last)",
      "\u001b[1;32m<ipython-input-2-1b91be5fb9ca>\u001b[0m in \u001b[0;36m<module>\u001b[1;34m\u001b[0m\n\u001b[0;32m      9\u001b[0m \u001b[1;31m##Bring in directors\u001b[0m\u001b[1;33m\u001b[0m\u001b[1;33m\u001b[0m\u001b[0m\n\u001b[0;32m     10\u001b[0m \u001b[0mdf_directors\u001b[0m \u001b[1;33m=\u001b[0m \u001b[0mpd\u001b[0m\u001b[1;33m.\u001b[0m\u001b[0mread_csv\u001b[0m\u001b[1;33m(\u001b[0m\u001b[1;34m'app_data/director.csv'\u001b[0m\u001b[1;33m)\u001b[0m\u001b[1;33m\u001b[0m\u001b[0m\n\u001b[1;32m---> 11\u001b[1;33m \u001b[0mdirector_ids\u001b[0m \u001b[1;33m=\u001b[0m \u001b[0mpd\u001b[0m\u001b[1;33m.\u001b[0m\u001b[0mSeries\u001b[0m\u001b[1;33m(\u001b[0m\u001b[0mdf_adirector\u001b[0m\u001b[1;33m[\u001b[0m\u001b[1;34m'director_id'\u001b[0m\u001b[1;33m]\u001b[0m\u001b[1;33m)\u001b[0m\u001b[1;33m\u001b[0m\u001b[0m\n\u001b[0m\u001b[0;32m     12\u001b[0m \u001b[1;33m\u001b[0m\u001b[0m\n\u001b[0;32m     13\u001b[0m \u001b[1;31m##Bring in writers\u001b[0m\u001b[1;33m\u001b[0m\u001b[1;33m\u001b[0m\u001b[0m\n",
      "\u001b[1;31mNameError\u001b[0m: name 'df_adirector' is not defined"
     ]
    }
   ],
   "source": [
    "##BEGIN CREATION OF DIRECTOR_LOOKUP AND WRITER_LOOKUP TABLES\n",
    "df_title_crew = pd.read_csv('raw_data/title_crew.tsv', sep='\\t')\n",
    "print(list(df_title_crew))\n",
    "\n",
    "##Bring in titles\n",
    "df_title = pd.read_csv('app_data/title.csv')\n",
    "title_ids = pd.Series(df_title['title_id'])\n",
    "\n",
    "##Bring in directors\n",
    "df_directors = pd.read_csv('app_data/director.csv')\n",
    "director_ids = pd.Series(df_adirector['director_id'])\n",
    "\n",
    "##Bring in writers\n",
    "df_writer = pd.read_csv('app_data/writer.csv')\n",
    "writer_ids = pd.Series(df_actors['writer_id'])"
   ]
  },
  {
   "cell_type": "code",
   "execution_count": 3,
   "metadata": {},
   "outputs": [
    {
     "name": "stdout",
     "output_type": "stream",
     "text": [
      "      tconst  directors\n",
      "0  tt0000001  nm0005690\n",
      "1  tt0000002  nm0721526\n",
      "2  tt0000003  nm0721526\n",
      "3  tt0000004  nm0721526\n",
      "4  tt0000005  nm0005690\n",
      "5  tt0000006  nm0005690\n",
      "6  tt0000007  nm0005690\n",
      "6  tt0000007  nm0374658\n",
      "7  tt0000008  nm0005690\n",
      "8  tt0000009  nm0085156\n",
      "------------------\n",
      "      tconst    writers\n",
      "0  tt0000001         \\N\n",
      "1  tt0000002         \\N\n",
      "2  tt0000003         \\N\n",
      "3  tt0000004         \\N\n",
      "4  tt0000005         \\N\n",
      "5  tt0000006         \\N\n",
      "6  tt0000007         \\N\n",
      "7  tt0000008         \\N\n",
      "8  tt0000009  nm0085156\n",
      "9  tt0000010         \\N\n"
     ]
    }
   ],
   "source": [
    "#one row for each comma separated cell value, inspired by:\n",
    "#https://stackoverflow.com/questions/50731229/split-cell-into-multiple-rows-in-pandas-dataframe\n",
    "\n",
    "# return list from series of comma-separated strings\n",
    "def chainer(s):\n",
    "    return list(chain.from_iterable(s.str.split(',')))\n",
    "\n",
    "# calculate lengths of splits\n",
    "lensDirector = df_title_crew['directors'].str.split(',').map(len)\n",
    "\n",
    "lensWriter = df_title_crew['writers'].str.split(',').map(len)\n",
    "\n",
    "# create new dataframe, repeating or chaining as appropriate\n",
    "                                #repeating columns\n",
    "directors_flat = pd.DataFrame({'tconst': np.repeat(df_title_crew['tconst'], lensDirector),\n",
    "                    #newly split column\n",
    "                    'directors': chainer(df_title_crew['directors'])})\n",
    "\n",
    "writers_flat = pd.DataFrame({'tconst': np.repeat(df_title_crew['tconst'], lensWriter),\n",
    "                    'writers': chainer(df_title_crew['writers'])})\n",
    "\n",
    "\n",
    "print(directors_flat[:10])\n",
    "print(\"------------------\")\n",
    "print(writers_flat[:10])\n",
    "\n"
   ]
  },
  {
   "cell_type": "code",
   "execution_count": 4,
   "metadata": {},
   "outputs": [
    {
     "ename": "NameError",
     "evalue": "name 'df_director_lookup' is not defined",
     "output_type": "error",
     "traceback": [
      "\u001b[1;31m---------------------------------------------------------------------------\u001b[0m",
      "\u001b[1;31mNameError\u001b[0m                                 Traceback (most recent call last)",
      "\u001b[1;32m<ipython-input-4-4ccaed92b062>\u001b[0m in \u001b[0;36m<module>\u001b[1;34m\u001b[0m\n\u001b[0;32m      1\u001b[0m \u001b[1;31m#Limit to only titles of interest\u001b[0m\u001b[1;33m\u001b[0m\u001b[1;33m\u001b[0m\u001b[0m\n\u001b[1;32m----> 2\u001b[1;33m \u001b[0mdf_director_lookup\u001b[0m \u001b[1;33m=\u001b[0m \u001b[0mdf_director_lookup\u001b[0m\u001b[1;33m.\u001b[0m\u001b[0mloc\u001b[0m\u001b[1;33m[\u001b[0m\u001b[0mdf_director_lookup\u001b[0m\u001b[1;33m[\u001b[0m\u001b[1;34m'tconst'\u001b[0m\u001b[1;33m]\u001b[0m\u001b[1;33m.\u001b[0m\u001b[0misin\u001b[0m\u001b[1;33m(\u001b[0m\u001b[0mtitle_ids\u001b[0m\u001b[1;33m)\u001b[0m\u001b[1;33m]\u001b[0m\u001b[1;33m\u001b[0m\u001b[0m\n\u001b[0m\u001b[0;32m      3\u001b[0m \u001b[1;33m\u001b[0m\u001b[0m\n\u001b[0;32m      4\u001b[0m \u001b[1;31m#Limit to only directors of interest\u001b[0m\u001b[1;33m\u001b[0m\u001b[1;33m\u001b[0m\u001b[0m\n\u001b[0;32m      5\u001b[0m \u001b[0mdf_director_lookup\u001b[0m \u001b[1;33m=\u001b[0m \u001b[0mdf_director_lookup\u001b[0m\u001b[1;33m.\u001b[0m\u001b[0mloc\u001b[0m\u001b[1;33m[\u001b[0m\u001b[0mdf_director_lookup\u001b[0m\u001b[1;33m[\u001b[0m\u001b[1;34m'directors'\u001b[0m\u001b[1;33m]\u001b[0m\u001b[1;33m.\u001b[0m\u001b[0misin\u001b[0m\u001b[1;33m(\u001b[0m\u001b[0mdirector_ids\u001b[0m\u001b[1;33m)\u001b[0m\u001b[1;33m]\u001b[0m\u001b[1;33m\u001b[0m\u001b[0m\n",
      "\u001b[1;31mNameError\u001b[0m: name 'df_director_lookup' is not defined"
     ]
    }
   ],
   "source": [
    "#Add primary key columns - director\n",
    "df_director_lookup = directors_flat\n",
    "df_director_lookup = df_director_lookup.reset_index()\n",
    "\n",
    "#Limit to only titles of interest\n",
    "df_director_lookup = df_director_lookup.loc[df_director_lookup['tconst'].isin(title_ids)]\n",
    "\n",
    "#Limit to only directors of interest\n",
    "df_director_lookup = df_director_lookup.loc[df_director_lookup['directors'].isin(director_ids)]\n",
    "\n",
    "print(df_director_lookup.head())\n",
    "\n",
    "#Add primary key columns - writer\n",
    "df_writer_lookup = writers_flat\n",
    "df_writer_lookup = df_writer_lookup.reset_index()\n",
    "\n",
    "#Limit to only titles of interest\n",
    "df_writer_lookup = df_writer_lookup.loc[df_writer_lookup['tconst'].isin(title_ids)]\n",
    "\n",
    "#Limit to only writers of interest\n",
    "df_writer_lookup = df_writer_lookup.loc[df_writer_lookup['writers'].isin(writer_ids)]\n",
    "\n",
    "print(df_writer_lookup.head())"
   ]
  },
  {
   "cell_type": "code",
   "execution_count": 6,
   "metadata": {},
   "outputs": [
    {
     "name": "stdout",
     "output_type": "stream",
     "text": [
      "        director_lookup_id   title_id director_id\n",
      "462890              370373  tt0385887   nm0001570\n",
      "525134              422698  tt0439572   nm0326246\n",
      "525135              422698  tt0439572   nm0197855\n",
      "870525              742585  tt0765465   nm0872045\n",
      "890344              760157  tt0783640   nm0733149\n",
      "        writer_lookup_id   title_id  writer_id\n",
      "702553            370373  tt0385887  nm0504672\n",
      "702554            370373  tt0385887  nm0001570\n",
      "779410            422698  tt0439572  nm1189346\n",
      "779411            422698  tt0439572  nm1703612\n",
      "779412            422698  tt0439572  nm1764901\n"
     ]
    }
   ],
   "source": [
    "#Rename columns\n",
    "df_director_lookup.columns = ['director_lookup_id', 'title_id', 'director_id']\n",
    "df_writer_lookup.columns = ['writer_lookup_id','title_id', 'writer_id']\n",
    "print(df_director_lookup.head())\n",
    "print(df_writer_lookup.head())"
   ]
  },
  {
   "cell_type": "code",
   "execution_count": 7,
   "metadata": {},
   "outputs": [],
   "source": [
    "#Output to csv, omitting the index column\n",
    "df_director_lookup.to_csv('app_data/director_lookup.csv', index=False)\n",
    "df_writer_lookup.to_csv('app_data/writer_lookup.csv', index=False)"
   ]
  },
  {
   "cell_type": "code",
   "execution_count": 8,
   "metadata": {},
   "outputs": [
    {
     "name": "stdout",
     "output_type": "stream",
     "text": [
      "['director_lookup_id', 'title_id', 'director_id']\n",
      "['writer_lookup_id', 'title_id', 'writer_id']\n"
     ]
    }
   ],
   "source": [
    "#Print column headers for manual population in MySQL Workbench\n",
    "print(list(df_director_lookup))\n",
    "print(list(df_writer_lookup))"
   ]
  }
 ],
 "metadata": {
  "kernelspec": {
   "display_name": "Python 3",
   "language": "python",
   "name": "python3"
  },
  "language_info": {
   "codemirror_mode": {
    "name": "ipython",
    "version": 3
   },
   "file_extension": ".py",
   "mimetype": "text/x-python",
   "name": "python",
   "nbconvert_exporter": "python",
   "pygments_lexer": "ipython3",
   "version": "3.7.0"
  }
 },
 "nbformat": 4,
 "nbformat_minor": 2
}
