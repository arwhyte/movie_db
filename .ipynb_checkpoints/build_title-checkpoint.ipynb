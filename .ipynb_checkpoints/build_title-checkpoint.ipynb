{
 "cells": [
  {
   "cell_type": "code",
   "execution_count": null,
   "metadata": {},
   "outputs": [],
   "source": [
    "#THESE SCRIPTS TAKE US FROM RAW DATA TO THE TABLES WE HAVE IN OUR SCHEMA - SEE movie_db_model.png"
   ]
  },
  {
   "cell_type": "code",
   "execution_count": 1,
   "metadata": {},
   "outputs": [],
   "source": [
    "import pandas as pd\n",
    "import numpy as np\n",
    "from itertools import chain"
   ]
  },
  {
   "cell_type": "code",
   "execution_count": 2,
   "metadata": {},
   "outputs": [
    {
     "name": "stderr",
     "output_type": "stream",
     "text": [
      "c:\\python37\\lib\\site-packages\\IPython\\core\\interactiveshell.py:3020: DtypeWarning: Columns (5) have mixed types. Specify dtype option on import or set low_memory=False.\n",
      "  interactivity=interactivity, compiler=compiler, result=result)\n"
     ]
    },
    {
     "name": "stdout",
     "output_type": "stream",
     "text": [
      "['tconst', 'titleType', 'primaryTitle', 'originalTitle', 'isAdult', 'startYear', 'endYear', 'runtimeMinutes', 'genres']\n"
     ]
    }
   ],
   "source": [
    "##BEGIN CREATION OF DIRECTOR_LOOKUP AND WRITER_LOOKUP TABLES\n",
    "df_title_basics = pd.read_csv('raw_data/title_basics.tsv', sep='\\t')\n",
    "print(list(df_title_basics))"
   ]
  },
  {
   "cell_type": "code",
   "execution_count": 3,
   "metadata": {},
   "outputs": [
    {
     "name": "stdout",
     "output_type": "stream",
     "text": [
      "      tconst titleType                                 primaryTitle  \\\n",
      "0  tt0000001     short                                   Carmencita   \n",
      "1  tt0000002     short                       Le clown et ses chiens   \n",
      "2  tt0000003     short                               Pauvre Pierrot   \n",
      "3  tt0000004     short                                  Un bon bock   \n",
      "4  tt0000005     short                             Blacksmith Scene   \n",
      "5  tt0000006     short                            Chinese Opium Den   \n",
      "6  tt0000007     short  Corbett and Courtney Before the Kinetograph   \n",
      "7  tt0000008     short       Edison Kinetoscopic Record of a Sneeze   \n",
      "8  tt0000009     movie                                   Miss Jerry   \n",
      "9  tt0000010     short        Employees Leaving the Lumière Factory   \n",
      "\n",
      "                                 originalTitle  isAdult startYear endYear  \\\n",
      "0                                   Carmencita        0      1894      \\N   \n",
      "1                       Le clown et ses chiens        0      1892      \\N   \n",
      "2                               Pauvre Pierrot        0      1892      \\N   \n",
      "3                                  Un bon bock        0      1892      \\N   \n",
      "4                             Blacksmith Scene        0      1893      \\N   \n",
      "5                            Chinese Opium Den        0      1894      \\N   \n",
      "6  Corbett and Courtney Before the Kinetograph        0      1894      \\N   \n",
      "7       Edison Kinetoscopic Record of a Sneeze        0      1894      \\N   \n",
      "8                                   Miss Jerry        0      1894      \\N   \n",
      "9          La sortie de l'usine Lumière à Lyon        0      1895      \\N   \n",
      "\n",
      "  runtimeMinutes                    genres  \n",
      "0              1         Documentary,Short  \n",
      "1              5           Animation,Short  \n",
      "2              4  Animation,Comedy,Romance  \n",
      "3             \\N           Animation,Short  \n",
      "4              1              Comedy,Short  \n",
      "5              1                     Short  \n",
      "6              1               Short,Sport  \n",
      "7              1         Documentary,Short  \n",
      "8             45                   Romance  \n",
      "9              1         Documentary,Short  \n"
     ]
    }
   ],
   "source": [
    "print(df_title_basics[:10])"
   ]
  },
  {
   "cell_type": "code",
   "execution_count": 4,
   "metadata": {
    "scrolled": true
   },
   "outputs": [
    {
     "name": "stdout",
     "output_type": "stream",
     "text": [
      "          title_id titleType                               primaryTitle  \\\n",
      "3505315  tt5174640     movie                                  100 Years   \n",
      "3713339  tt5637536     movie                                   Avatar 5   \n",
      "2585282  tt3095356     movie                                   Avatar 4   \n",
      "5150399  tt8743690     movie     Test In-Dev Title 2: Electric Boogaloo   \n",
      "3941865  tt6149054     movie  Fantastic Beasts and Where to Find Them 5   \n",
      "\n",
      "                                     originalTitle  isAdult  startYear  \\\n",
      "3505315                                  100 Years        0       2115   \n",
      "3713339                                   Avatar 5        0       2025   \n",
      "2585282                                   Avatar 4        0       2024   \n",
      "5150399     Test In-Dev Title 2: Electric Boogaloo        0       2024   \n",
      "3941865  Fantastic Beasts and Where to Find Them 5        0       2024   \n",
      "\n",
      "        endYear runtimeMinutes                    genres  \n",
      "3505315      \\N             \\N                     Drama  \n",
      "3713339      \\N             \\N  Action;Adventure;Fantasy  \n",
      "2585282      \\N             \\N  Action;Adventure;Fantasy  \n",
      "5150399      \\N             \\N                    Action  \n",
      "3941865      \\N             \\N  Adventure;Family;Fantasy  \n"
     ]
    }
   ],
   "source": [
    "#Rename title columns\n",
    "df_title_basics.columns=['title_id', 'titleType', 'primaryTitle', 'originalTitle', 'isAdult', 'startYear', 'endYear', 'runtimeMinutes', 'genres', 'averageRating', 'numVotes']\n",
    "\n",
    "#Replace all comman with semicolons to enable database import later\n",
    "df_title_basics['genres'] = df_title_basics['genres'].str.replace(',', ';')\n",
    "\n",
    "#Filter out null startYear values\n",
    "df_title_basics = df_title_basics.loc[~df_title_basics['startYear'].isin(['\\\\N'])]\n",
    "\n",
    "#Change votes and rating to numeric data types\n",
    "df_title_basics['numVotes'] = df_title_basics['numVotes'].astype(str).astype(int)\n",
    "df_title_basics['averageRating'] = df_title_basics['averageRating'].astype(str).astype(float)\n",
    "\n",
    "#Sort descending by rating\n",
    "df_title_basics = df_title_basics.sort_values('averageRating', ascending=False)\n",
    "\n",
    "#then by number of votes\n",
    "df_title_basics = df_title_basics.sort_values('numVotes', ascending=False)\n",
    "\n",
    "#Drop duplicates\n",
    "df_title_basics = df_title_basics.drop_duplicates(subset=['title_id'])\n",
    "\n",
    "#Cut out all but the top 10000 records\n",
    "df_title_basics = df_title_basics.head(10000)\n",
    "\n",
    "#Then output to csv\n",
    "print(df_title_basics.head())\n",
    "df_title_basics.to_csv('app_data/title.csv', index=False)"
   ]
  },
  {
   "cell_type": "code",
   "execution_count": 10,
   "metadata": {},
   "outputs": [
    {
     "name": "stdout",
     "output_type": "stream",
     "text": [
      "['title_id', 'titleType', 'primaryTitle', 'originalTitle', 'isAdult', 'startYear', 'endYear', 'runtimeMinutes', 'genres']\n"
     ]
    }
   ],
   "source": [
    "#print column headers for manual population in MySQL workbench\n",
    "print(list(df_title_basics))"
   ]
  }
 ],
 "metadata": {
  "kernelspec": {
   "display_name": "Python 3",
   "language": "python",
   "name": "python3"
  },
  "language_info": {
   "codemirror_mode": {
    "name": "ipython",
    "version": 3
   },
   "file_extension": ".py",
   "mimetype": "text/x-python",
   "name": "python",
   "nbconvert_exporter": "python",
   "pygments_lexer": "ipython3",
   "version": "3.7.0"
  }
 },
 "nbformat": 4,
 "nbformat_minor": 2
}
