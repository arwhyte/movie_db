{
 "cells": [
  {
   "cell_type": "code",
   "execution_count": null,
   "metadata": {},
   "outputs": [],
   "source": [
    "#THESE SCRIPTS TAKE US FROM RAW DATA TO THE TABLES WE HAVE IN OUR SCHEMA - SEE movie_db_model.png"
   ]
  },
  {
   "cell_type": "code",
   "execution_count": 1,
   "metadata": {},
   "outputs": [],
   "source": [
    "import pandas as pd\n",
    "import numpy as np\n",
    "from itertools import chain"
   ]
  },
  {
   "cell_type": "code",
   "execution_count": 2,
   "metadata": {},
   "outputs": [
    {
     "name": "stdout",
     "output_type": "stream",
     "text": [
      "['nconst', 'primaryName', 'birthYear', 'deathYear', 'primaryProfession', 'knownForTitles']\n"
     ]
    }
   ],
   "source": [
    "##BEGIN CREATION OF DIRECTOR_LOOKUP AND WRITER_LOOKUP TABLES\n",
    "df_name_basics = pd.read_csv('raw_data/name_basics.tsv', sep='\\t')\n",
    "print(list(df_name_basics))\n",
    "##Bring in titles\n",
    "df_title = pd.read_csv('app_data/title.csv')\n",
    "title_ids = pd.Series(df_title['title_id'])\n"
   ]
  },
  {
   "cell_type": "code",
   "execution_count": 3,
   "metadata": {},
   "outputs": [
    {
     "name": "stdout",
     "output_type": "stream",
     "text": [
      "      nconst      primaryName birthYear deathYear  \\\n",
      "0  nm0000001     Fred Astaire      1899      1987   \n",
      "1  nm0000002    Lauren Bacall      1924      2014   \n",
      "2  nm0000003  Brigitte Bardot      1934        \\N   \n",
      "3  nm0000004     John Belushi      1949      1982   \n",
      "4  nm0000005   Ingmar Bergman      1918      2007   \n",
      "5  nm0000006   Ingrid Bergman      1915      1982   \n",
      "6  nm0000007  Humphrey Bogart      1899      1957   \n",
      "7  nm0000008    Marlon Brando      1924      2004   \n",
      "8  nm0000009   Richard Burton      1925      1984   \n",
      "9  nm0000010     James Cagney      1899      1986   \n",
      "\n",
      "                primaryProfession                           knownForTitles  \n",
      "0  soundtrack,actor,miscellaneous  tt0072308,tt0050419,tt0053137,tt0043044  \n",
      "1              actress,soundtrack  tt0037382,tt0071877,tt0117057,tt0038355  \n",
      "2     actress,soundtrack,producer  tt0049189,tt0054452,tt0057345,tt0059956  \n",
      "3         actor,writer,soundtrack  tt0080455,tt0072562,tt0077975,tt0078723  \n",
      "4           writer,director,actor  tt0060827,tt0083922,tt0050976,tt0050986  \n",
      "5     actress,soundtrack,producer  tt0034583,tt0038787,tt0071877,tt0038109  \n",
      "6       actor,soundtrack,producer  tt0043265,tt0033870,tt0034583,tt0037382  \n",
      "7       actor,soundtrack,director  tt0068646,tt0047296,tt0078788,tt0070849  \n",
      "8       actor,producer,soundtrack  tt0087803,tt0057877,tt0059749,tt0061184  \n",
      "9       actor,soundtrack,director  tt0035575,tt0055256,tt0029870,tt0031867  \n"
     ]
    }
   ],
   "source": [
    "print(df_name_basics[:10])"
   ]
  },
  {
   "cell_type": "code",
   "execution_count": 4,
   "metadata": {},
   "outputs": [
    {
     "name": "stdout",
     "output_type": "stream",
     "text": [
      "      nconst    primaryName birthYear deathYear primaryProfession  \\\n",
      "0  nm0000001   Fred Astaire      1899      1987        soundtrack   \n",
      "0  nm0000001   Fred Astaire      1899      1987        soundtrack   \n",
      "0  nm0000001   Fred Astaire      1899      1987        soundtrack   \n",
      "0  nm0000001   Fred Astaire      1899      1987        soundtrack   \n",
      "0  nm0000001   Fred Astaire      1899      1987             actor   \n",
      "0  nm0000001   Fred Astaire      1899      1987             actor   \n",
      "0  nm0000001   Fred Astaire      1899      1987             actor   \n",
      "0  nm0000001   Fred Astaire      1899      1987             actor   \n",
      "0  nm0000001   Fred Astaire      1899      1987     miscellaneous   \n",
      "0  nm0000001   Fred Astaire      1899      1987     miscellaneous   \n",
      "0  nm0000001   Fred Astaire      1899      1987     miscellaneous   \n",
      "0  nm0000001   Fred Astaire      1899      1987     miscellaneous   \n",
      "1  nm0000002  Lauren Bacall      1924      2014           actress   \n",
      "1  nm0000002  Lauren Bacall      1924      2014           actress   \n",
      "1  nm0000002  Lauren Bacall      1924      2014           actress   \n",
      "1  nm0000002  Lauren Bacall      1924      2014           actress   \n",
      "1  nm0000002  Lauren Bacall      1924      2014        soundtrack   \n",
      "1  nm0000002  Lauren Bacall      1924      2014        soundtrack   \n",
      "1  nm0000002  Lauren Bacall      1924      2014        soundtrack   \n",
      "1  nm0000002  Lauren Bacall      1924      2014        soundtrack   \n",
      "\n",
      "  knownForTitles  \n",
      "0      tt0072308  \n",
      "0      tt0050419  \n",
      "0      tt0053137  \n",
      "0      tt0043044  \n",
      "0      tt0072308  \n",
      "0      tt0050419  \n",
      "0      tt0053137  \n",
      "0      tt0043044  \n",
      "0      tt0072308  \n",
      "0      tt0050419  \n",
      "0      tt0053137  \n",
      "0      tt0043044  \n",
      "1      tt0037382  \n",
      "1      tt0071877  \n",
      "1      tt0117057  \n",
      "1      tt0038355  \n",
      "1      tt0037382  \n",
      "1      tt0071877  \n",
      "1      tt0117057  \n",
      "1      tt0038355  \n"
     ]
    }
   ],
   "source": [
    "#one row for each comma separated cell value, inspired by:\n",
    "#https://stackoverflow.com/questions/50731229/split-cell-into-multiple-rows-in-pandas-dataframe\n",
    "\n",
    "# return list from series of comma-separated strings\n",
    "def chainer(s):\n",
    "    return list(chain.from_iterable(s.str.split(',')))\n",
    "\n",
    "#Need to convert 'primaryProfession' column to string, for some reason\n",
    "df_name_basics['primaryProfession'] = df_name_basics['primaryProfession'].astype(str)\n",
    "\n",
    "# calculate lengths of splits\n",
    "lens = df_name_basics['primaryProfession'].str.split(',').map(len)\n",
    "\n",
    "# create new dataframe, repeating or chaining as appropriate\n",
    "                        #Repeating columns\n",
    "df_name_basics_flat1 = pd.DataFrame({'nconst': np.repeat(df_name_basics['nconst'], lens),\n",
    "                    'primaryName': np.repeat(df_name_basics['primaryName'], lens),\n",
    "                    'birthYear': np.repeat(df_name_basics['birthYear'], lens),\n",
    "                    'deathYear': np.repeat(df_name_basics['deathYear'], lens),\n",
    "                    'knownForTitles': np.repeat(df_name_basics['knownForTitles'], lens),\n",
    "                    #Newly split columns\n",
    "                    'primaryProfession': chainer(df_name_basics['primaryProfession'])})\n",
    "\n",
    "# calculate lengths of splits\n",
    "lens = df_name_basics_flat1['knownForTitles'].str.split(',').map(len)\n",
    "\n",
    "df_name_basics_flat2 = pd.DataFrame({'nconst': np.repeat(df_name_basics_flat1['nconst'], lens),\n",
    "                    'primaryName': np.repeat(df_name_basics_flat1['primaryName'], lens),\n",
    "                    'birthYear': np.repeat(df_name_basics_flat1['birthYear'], lens),\n",
    "                    'deathYear': np.repeat(df_name_basics_flat1['deathYear'], lens),\n",
    "                    'primaryProfession': np.repeat(df_name_basics_flat1['primaryProfession'], lens),\n",
    "                    #Newly split columns\n",
    "                    'knownForTitles': chainer(df_name_basics_flat1['knownForTitles'])})\n",
    "\n",
    "\n",
    "print(df_name_basics_flat2[:20])\n"
   ]
  },
  {
   "cell_type": "code",
   "execution_count": 5,
   "metadata": {},
   "outputs": [],
   "source": [
    "#filter only on titles in our universe\n",
    "df_name_basics_flat3 = df_name_basics_flat2.loc[df_name_basics_flat2['knownForTitles'].isin(title_ids)]"
   ]
  },
  {
   "cell_type": "code",
   "execution_count": 7,
   "metadata": {},
   "outputs": [
    {
     "name": "stdout",
     "output_type": "stream",
     "text": [
      "         nconst         primaryName birthYear deathYear primaryProfession  \\\n",
      "2690  nm0002694     Leland L. Jones      1963        \\N             actor   \n",
      "3022  nm0003028      Rodrigo Botero        \\N        \\N             actor   \n",
      "3819  nm0003832  Ingrid Schoelderle      1952        \\N           actress   \n",
      "6356  nm0006379       Axel Melzener      1975        \\N             actor   \n",
      "7616  nm0007664        Byron Abalos        \\N        \\N             actor   \n",
      "\n",
      "     knownForTitles  \n",
      "2690      tt4463894  \n",
      "3022      tt4761100  \n",
      "3819      tt9097694  \n",
      "6356      tt5293310  \n",
      "7616      tt4504044  \n",
      "          nconst     primaryName birthYear deathYear primaryProfession  \\\n",
      "2840   nm0002844   Donna Wheeler        \\N        \\N          director   \n",
      "2911   nm0002916       Ray Brady      1961        \\N          director   \n",
      "8363   nm0008443  Dominique Abel        \\N        \\N          director   \n",
      "10890  nm0011104    Julian Adams        \\N        \\N          director   \n",
      "15722  nm0016176    Juana Macías      1971        \\N          director   \n",
      "\n",
      "      knownForTitles  \n",
      "2840       tt9144872  \n",
      "2911       tt8431978  \n",
      "8363       tt8962546  \n",
      "10890      tt0783640  \n",
      "15722      tt7853636  \n",
      "         nconst     primaryName birthYear deathYear primaryProfession  \\\n",
      "2911  nm0002916       Ray Brady      1961        \\N            writer   \n",
      "3022  nm0003028  Rodrigo Botero        \\N        \\N            writer   \n",
      "4290  nm0004307   Shane Salerno      1972        \\N            writer   \n",
      "6356  nm0006379   Axel Melzener      1975        \\N            writer   \n",
      "6656  nm0006680     Wendy Braff      1967        \\N            writer   \n",
      "\n",
      "     knownForTitles  \n",
      "2911      tt8431978  \n",
      "3022      tt4761100  \n",
      "4290      tt1630029  \n",
      "6356      tt5293310  \n",
      "6656      tt7895704  \n"
     ]
    }
   ],
   "source": [
    "#Filter on actors, writers, and directors, all in their own dataframes\n",
    "df_actors = df_name_basics_flat3.loc[df_name_basics_flat3['primaryProfession'].isin(['actor','actress'])]\n",
    "df_directors = df_name_basics_flat3.loc[df_name_basics_flat3['primaryProfession'].isin(['director'])]\n",
    "df_writers = df_name_basics_flat3.loc[df_name_basics_flat3['primaryProfession'].isin(['writer'])]\n",
    "\n",
    "print(df_actors.head())\n",
    "print(df_directors.head())\n",
    "print(df_writers.head())"
   ]
  },
  {
   "cell_type": "code",
   "execution_count": 9,
   "metadata": {},
   "outputs": [
    {
     "name": "stdout",
     "output_type": "stream",
     "text": [
      "       actor_id         primaryName birthYear deathYear knownForTitles\n",
      "2690  nm0002694     Leland L. Jones      1963        \\N      tt4463894\n",
      "3022  nm0003028      Rodrigo Botero        \\N        \\N      tt4761100\n",
      "3819  nm0003832  Ingrid Schoelderle      1952        \\N      tt9097694\n",
      "6356  nm0006379       Axel Melzener      1975        \\N      tt5293310\n",
      "7616  nm0007664        Byron Abalos        \\N        \\N      tt4504044\n",
      "--------------\n",
      "      director_id     primaryName birthYear deathYear knownForTitles\n",
      "2840    nm0002844   Donna Wheeler        \\N        \\N      tt9144872\n",
      "2911    nm0002916       Ray Brady      1961        \\N      tt8431978\n",
      "8363    nm0008443  Dominique Abel        \\N        \\N      tt8962546\n",
      "10890   nm0011104    Julian Adams        \\N        \\N      tt0783640\n",
      "15722   nm0016176    Juana Macías      1971        \\N      tt7853636\n",
      "--------------\n",
      "      writer_id     primaryName birthYear deathYear knownForTitles\n",
      "2911  nm0002916       Ray Brady      1961        \\N      tt8431978\n",
      "3022  nm0003028  Rodrigo Botero        \\N        \\N      tt4761100\n",
      "4290  nm0004307   Shane Salerno      1972        \\N      tt1630029\n",
      "6356  nm0006379   Axel Melzener      1975        \\N      tt5293310\n",
      "6656  nm0006680     Wendy Braff      1967        \\N      tt7895704\n"
     ]
    }
   ],
   "source": [
    "#Rename actor columns\n",
    "df_actors.columns=['actor_id','primaryName','birthYear','deathYear','primaryProfession', 'knownForTitles']\n",
    "#Drop the primaryProfession and knownFor column\n",
    "df_actors = df_actors.drop(['primaryProfession'], axis=1)\n",
    "#Drop duplicates\n",
    "df_actors = df_actors.drop_duplicates(subset=['actor_id'])\n",
    "#Then output to csv\n",
    "print(df_actors.head())\n",
    "print(\"--------------\")\n",
    "df_actors.to_csv('app_data/actor.csv', index=False)\n",
    "\n",
    "\n",
    "#Do the same for directors and writers\n",
    "df_directors.columns=['director_id','primaryName','birthYear','deathYear','primaryProfession', 'knownForTitles']\n",
    "df_directors = df_directors.drop(['primaryProfession'], axis=1)\n",
    "#Drop duplicates\n",
    "df_directors = df_directors.drop_duplicates(subset=['director_id'])\n",
    "print(df_directors.head())\n",
    "print(\"--------------\")\n",
    "df_directors.to_csv('app_data/director.csv', index=False)\n",
    "\n",
    "df_writers.columns=['writer_id','primaryName','birthYear','deathYear','primaryProfession', 'knownForTitles']\n",
    "df_writers = df_writers.drop(['primaryProfession'], axis=1)\n",
    "#Drop duplicates\n",
    "df_writers = df_writers.drop_duplicates(subset=['writer_id'])\n",
    "print(df_writers.head())\n",
    "df_writers.to_csv('app_data/writer.csv', index=False)"
   ]
  },
  {
   "cell_type": "code",
   "execution_count": 26,
   "metadata": {},
   "outputs": [
    {
     "name": "stdout",
     "output_type": "stream",
     "text": [
      "['actor_id', 'primaryName', 'birthYear', 'deathYear']\n",
      "['director_id', 'primaryName', 'birthYear', 'deathYear']\n",
      "['writer_id', 'primaryName', 'birthYear', 'deathYear']\n"
     ]
    }
   ],
   "source": [
    "#Print columns headers for manual population into MySQL workbench\n",
    "print(list(df_actors))\n",
    "print(list(df_directors))\n",
    "print(list(df_writers))"
   ]
  }
 ],
 "metadata": {
  "kernelspec": {
   "display_name": "Python 3",
   "language": "python",
   "name": "python3"
  },
  "language_info": {
   "codemirror_mode": {
    "name": "ipython",
    "version": 3
   },
   "file_extension": ".py",
   "mimetype": "text/x-python",
   "name": "python",
   "nbconvert_exporter": "python",
   "pygments_lexer": "ipython3",
   "version": "3.7.0"
  }
 },
 "nbformat": 4,
 "nbformat_minor": 2
}
