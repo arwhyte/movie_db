{
 "cells": [
  {
   "cell_type": "code",
   "execution_count": 1,
   "metadata": {},
   "outputs": [
    {
     "name": "stderr",
     "output_type": "stream",
     "text": [
      "c:\\python37\\lib\\site-packages\\ipykernel\\parentpoller.py:116: UserWarning: Parent poll failed.  If the frontend dies,\n",
      "                the kernel may be left running.  Please let us know\n",
      "                about your system (bitness, Python, etc.) at\n",
      "                ipython-dev@scipy.org\n",
      "  ipython-dev@scipy.org\"\"\")\n"
     ]
    }
   ],
   "source": [
    "#THESE SCRIPTS TAKE US FROM RAW DATA TO THE TABLES WE HAVE IN OUR SCHEMA - SEE movie_db_model.png"
   ]
  },
  {
   "cell_type": "code",
   "execution_count": 2,
   "metadata": {},
   "outputs": [],
   "source": [
    "import pandas as pd\n",
    "import numpy as np\n",
    "from itertools import chain"
   ]
  },
  {
   "cell_type": "code",
   "execution_count": 3,
   "metadata": {},
   "outputs": [
    {
     "name": "stdout",
     "output_type": "stream",
     "text": [
      "['nconst', 'primaryName', 'birthYear', 'deathYear', 'primaryProfession', 'knownForTitles']\n"
     ]
    }
   ],
   "source": [
    "##BEGIN CREATION OF ACTOR_LOOKUP TABLE\n",
    "df_name_basics = pd.read_csv('raw_data/name_basics.tsv', sep='\\t')\n",
    "print(list(df_name_basics))\n",
    "##Bring in titles\n",
    "df_title = pd.read_csv('app_data/title.csv')\n",
    "title_ids = pd.Series(df_title['title_id'])\n",
    "\n",
    "##Bring in actors\n",
    "df_actors = pd.read_csv('app_data/actor.csv')\n",
    "actor_ids = pd.Series(df_actors['actor_id'])\n"
   ]
  },
  {
   "cell_type": "code",
   "execution_count": 4,
   "metadata": {},
   "outputs": [
    {
     "name": "stdout",
     "output_type": "stream",
     "text": [
      "      nconst      primaryName birthYear deathYear  \\\n",
      "0  nm0000001     Fred Astaire      1899      1987   \n",
      "0  nm0000001     Fred Astaire      1899      1987   \n",
      "0  nm0000001     Fred Astaire      1899      1987   \n",
      "0  nm0000001     Fred Astaire      1899      1987   \n",
      "1  nm0000002    Lauren Bacall      1924      2014   \n",
      "1  nm0000002    Lauren Bacall      1924      2014   \n",
      "1  nm0000002    Lauren Bacall      1924      2014   \n",
      "1  nm0000002    Lauren Bacall      1924      2014   \n",
      "2  nm0000003  Brigitte Bardot      1934        \\N   \n",
      "2  nm0000003  Brigitte Bardot      1934        \\N   \n",
      "2  nm0000003  Brigitte Bardot      1934        \\N   \n",
      "2  nm0000003  Brigitte Bardot      1934        \\N   \n",
      "3  nm0000004     John Belushi      1949      1982   \n",
      "3  nm0000004     John Belushi      1949      1982   \n",
      "3  nm0000004     John Belushi      1949      1982   \n",
      "3  nm0000004     John Belushi      1949      1982   \n",
      "4  nm0000005   Ingmar Bergman      1918      2007   \n",
      "4  nm0000005   Ingmar Bergman      1918      2007   \n",
      "4  nm0000005   Ingmar Bergman      1918      2007   \n",
      "4  nm0000005   Ingmar Bergman      1918      2007   \n",
      "\n",
      "                primaryProfession knownForTitles  \n",
      "0  soundtrack,actor,miscellaneous      tt0072308  \n",
      "0  soundtrack,actor,miscellaneous      tt0050419  \n",
      "0  soundtrack,actor,miscellaneous      tt0053137  \n",
      "0  soundtrack,actor,miscellaneous      tt0043044  \n",
      "1              actress,soundtrack      tt0037382  \n",
      "1              actress,soundtrack      tt0071877  \n",
      "1              actress,soundtrack      tt0117057  \n",
      "1              actress,soundtrack      tt0038355  \n",
      "2     actress,soundtrack,producer      tt0049189  \n",
      "2     actress,soundtrack,producer      tt0054452  \n",
      "2     actress,soundtrack,producer      tt0057345  \n",
      "2     actress,soundtrack,producer      tt0059956  \n",
      "3         actor,writer,soundtrack      tt0080455  \n",
      "3         actor,writer,soundtrack      tt0072562  \n",
      "3         actor,writer,soundtrack      tt0077975  \n",
      "3         actor,writer,soundtrack      tt0078723  \n",
      "4           writer,director,actor      tt0060827  \n",
      "4           writer,director,actor      tt0083922  \n",
      "4           writer,director,actor      tt0050976  \n",
      "4           writer,director,actor      tt0050986  \n"
     ]
    }
   ],
   "source": [
    "#one row for each comma separated cell value, inspired by:\n",
    "#https://stackoverflow.com/questions/50731229/split-cell-into-multiple-rows-in-pandas-dataframe\n",
    "\n",
    "# return list from series of comma-separated strings\n",
    "def chainer(s):\n",
    "    return list(chain.from_iterable(s.str.split(',')))\n",
    "\n",
    "# calculate lengths of splits\n",
    "lens = df_name_basics['knownForTitles'].str.split(',').map(len)\n",
    "\n",
    "# create new dataframe, repeating or chaining as appropriate\n",
    "                        #Repeating columns\n",
    "df_name_basics_flat = pd.DataFrame({'nconst': np.repeat(df_name_basics['nconst'], lens),\n",
    "                    'primaryName': np.repeat(df_name_basics['primaryName'], lens),\n",
    "                    'birthYear': np.repeat(df_name_basics['birthYear'], lens),\n",
    "                    'deathYear': np.repeat(df_name_basics['deathYear'], lens),\n",
    "                    'primaryProfession': np.repeat(df_name_basics['primaryProfession'], lens),\n",
    "                    #Newly split column\n",
    "                    'knownForTitles': chainer(df_name_basics['knownForTitles'])})\n",
    "\n",
    "\n",
    "print(df_name_basics_flat[:20])\n",
    "\n"
   ]
  },
  {
   "cell_type": "code",
   "execution_count": 5,
   "metadata": {},
   "outputs": [
    {
     "name": "stdout",
     "output_type": "stream",
     "text": [
      "        nconst knownForTitles\n",
      "174  nm0000175      tt0111161\n",
      "208  nm0000209      tt0111161\n",
      "292  nm0000293      tt0944947\n",
      "316  nm0000317      tt0111161\n",
      "941  nm0000943      tt3572718\n"
     ]
    }
   ],
   "source": [
    "#strip down only to necessary columns and output to app_data folder\n",
    "df_actor_lookup = df_name_basics_flat[['nconst','knownForTitles']]\n",
    "\n",
    "#Limit to only titles of interest\n",
    "df_actor_lookup = df_actor_lookup.loc[df_actor_lookup['knownForTitles'].isin(title_ids)]\n",
    "\n",
    "#Limit to only actors in our actors table\n",
    "df_actor_lookup = df_actor_lookup.loc[df_actor_lookup['nconst'].isin(actor_ids)]\n",
    "\n",
    "print(df_actor_lookup.head())"
   ]
  },
  {
   "cell_type": "code",
   "execution_count": 7,
   "metadata": {},
   "outputs": [
    {
     "name": "stdout",
     "output_type": "stream",
     "text": [
      "      actor_id   title_id\n",
      "174  nm0000175  tt0111161\n",
      "208  nm0000209  tt0111161\n",
      "292  nm0000293  tt0944947\n",
      "316  nm0000317  tt0111161\n",
      "941  nm0000943  tt3572718\n"
     ]
    }
   ],
   "source": [
    "#Rename columns\n",
    "df_actor_lookup.columns=['actor_id', 'title_id']\n",
    "print(df_actor_lookup.head())"
   ]
  },
  {
   "cell_type": "code",
   "execution_count": 14,
   "metadata": {},
   "outputs": [
    {
     "name": "stdout",
     "output_type": "stream",
     "text": [
      "   level_0   actor_id   title_id\n",
      "0        0  nm0000175  tt0111161\n",
      "1        1  nm0000209  tt0111161\n",
      "2        2  nm0000293  tt0944947\n",
      "3        3  nm0000317  tt0111161\n",
      "4        4  nm0000943  tt3572718\n"
     ]
    }
   ],
   "source": [
    "#Add primary key column\n",
    "# df_actor_lookup = df_actor_lookup.reset_index()\n",
    "# df_actor_lookup = df_actor_lookup.reset_index()\n",
    "df_actor_lookup = df_actor_lookup[['level_0', 'actor_id', 'title_id']]\n",
    "print(df_actor_lookup.head())"
   ]
  },
  {
   "cell_type": "code",
   "execution_count": 16,
   "metadata": {},
   "outputs": [],
   "source": [
    "df_actor_lookup.columns=['actor_lookup_id', 'actor_id', 'title_id']\n",
    "df_actor_lookup.to_csv('app_data/actor_lookup.csv', index=False)"
   ]
  },
  {
   "cell_type": "code",
   "execution_count": null,
   "metadata": {},
   "outputs": [],
   "source": []
  },
  {
   "cell_type": "code",
   "execution_count": 10,
   "metadata": {},
   "outputs": [
    {
     "name": "stdout",
     "output_type": "stream",
     "text": [
      "['actor_lookup_id', 'actor_id', 'title_id']\n"
     ]
    }
   ],
   "source": [
    "print(list(df_actor_lookup))"
   ]
  }
 ],
 "metadata": {
  "kernelspec": {
   "display_name": "Python 3",
   "language": "python",
   "name": "python3"
  },
  "language_info": {
   "codemirror_mode": {
    "name": "ipython",
    "version": 3
   },
   "file_extension": ".py",
   "mimetype": "text/x-python",
   "name": "python",
   "nbconvert_exporter": "python",
   "pygments_lexer": "ipython3",
   "version": "3.7.0"
  }
 },
 "nbformat": 4,
 "nbformat_minor": 2
}
