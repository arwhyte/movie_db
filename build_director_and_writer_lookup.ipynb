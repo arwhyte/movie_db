{
 "cells": [
  {
   "cell_type": "code",
   "execution_count": 1,
   "metadata": {},
   "outputs": [
    {
     "name": "stderr",
     "output_type": "stream",
     "text": [
      "c:\\python37\\lib\\site-packages\\ipykernel\\parentpoller.py:116: UserWarning: Parent poll failed.  If the frontend dies,\n",
      "                the kernel may be left running.  Please let us know\n",
      "                about your system (bitness, Python, etc.) at\n",
      "                ipython-dev@scipy.org\n",
      "  ipython-dev@scipy.org\"\"\")\n"
     ]
    }
   ],
   "source": [
    "#THESE SCRIPTS TAKE US FROM RAW DATA TO THE TABLES WE HAVE IN OUR SCHEMA - SEE movie_db_model.png"
   ]
  },
  {
   "cell_type": "code",
   "execution_count": 1,
   "metadata": {},
   "outputs": [
    {
     "name": "stderr",
     "output_type": "stream",
     "text": [
      "c:\\python37\\lib\\site-packages\\ipykernel\\parentpoller.py:116: UserWarning: Parent poll failed.  If the frontend dies,\n",
      "                the kernel may be left running.  Please let us know\n",
      "                about your system (bitness, Python, etc.) at\n",
      "                ipython-dev@scipy.org\n",
      "  ipython-dev@scipy.org\"\"\")\n"
     ]
    }
   ],
   "source": [
    "import pandas as pd\n",
    "import numpy as np\n",
    "from itertools import chain"
   ]
  },
  {
   "cell_type": "code",
   "execution_count": 2,
   "metadata": {},
   "outputs": [
    {
     "name": "stdout",
     "output_type": "stream",
     "text": [
      "['tconst', 'directors', 'writers']\n"
     ]
    }
   ],
   "source": [
    "##BEGIN CREATION OF DIRECTOR_LOOKUP AND WRITER_LOOKUP TABLES\n",
    "df_title_crew = pd.read_csv('raw_data/title_crew.tsv', sep='\\t')\n",
    "print(list(df_title_crew))\n",
    "\n",
    "##Bring in titles\n",
    "df_title = pd.read_csv('app_data/title.csv')\n",
    "title_ids = pd.Series(df_title['title_id'])\n",
    "\n",
    "##Bring in directors\n",
    "df_director = pd.read_csv('app_data/director.csv')\n",
    "director_ids = pd.Series(df_director['director_id'])\n",
    "\n",
    "##Bring in writers\n",
    "df_writer = pd.read_csv('app_data/writer.csv')\n",
    "writer_ids = pd.Series(df_writer['writer_id'])"
   ]
  },
  {
   "cell_type": "code",
   "execution_count": 3,
   "metadata": {},
   "outputs": [
    {
     "name": "stdout",
     "output_type": "stream",
     "text": [
      "      tconst  directors\n",
      "0  tt0000001  nm0005690\n",
      "1  tt0000002  nm0721526\n",
      "2  tt0000003  nm0721526\n",
      "3  tt0000004  nm0721526\n",
      "4  tt0000005  nm0005690\n",
      "5  tt0000006  nm0005690\n",
      "6  tt0000007  nm0005690\n",
      "6  tt0000007  nm0374658\n",
      "7  tt0000008  nm0005690\n",
      "8  tt0000009  nm0085156\n",
      "------------------\n",
      "      tconst    writers\n",
      "0  tt0000001         \\N\n",
      "1  tt0000002         \\N\n",
      "2  tt0000003         \\N\n",
      "3  tt0000004         \\N\n",
      "4  tt0000005         \\N\n",
      "5  tt0000006         \\N\n",
      "6  tt0000007         \\N\n",
      "7  tt0000008         \\N\n",
      "8  tt0000009  nm0085156\n",
      "9  tt0000010         \\N\n"
     ]
    }
   ],
   "source": [
    "#one row for each comma separated cell value, inspired by:\n",
    "#https://stackoverflow.com/questions/50731229/split-cell-into-multiple-rows-in-pandas-dataframe\n",
    "\n",
    "# return list from series of comma-separated strings\n",
    "def chainer(s):\n",
    "    return list(chain.from_iterable(s.str.split(',')))\n",
    "\n",
    "# calculate lengths of splits\n",
    "lensDirector = df_title_crew['directors'].str.split(',').map(len)\n",
    "\n",
    "lensWriter = df_title_crew['writers'].str.split(',').map(len)\n",
    "\n",
    "# create new dataframe, repeating or chaining as appropriate\n",
    "                                #repeating columns\n",
    "directors_flat = pd.DataFrame({'tconst': np.repeat(df_title_crew['tconst'], lensDirector),\n",
    "                    #newly split column\n",
    "                    'directors': chainer(df_title_crew['directors'])})\n",
    "\n",
    "writers_flat = pd.DataFrame({'tconst': np.repeat(df_title_crew['tconst'], lensWriter),\n",
    "                    'writers': chainer(df_title_crew['writers'])})\n",
    "\n",
    "\n",
    "print(directors_flat[:10])\n",
    "print(\"------------------\")\n",
    "print(writers_flat[:10])\n",
    "\n"
   ]
  },
  {
   "cell_type": "code",
   "execution_count": 4,
   "metadata": {},
   "outputs": [
    {
     "name": "stdout",
     "output_type": "stream",
     "text": [
      "       level_0  index     tconst  directors\n",
      "61837    61837  52584  tt0053567  nm0633932\n",
      "67009    67009  56035  tt0057092  nm0025655\n",
      "68435    68435  56880  tt0057955  nm0491603\n",
      "73906    73906  60475  tt0061638  nm0122236\n",
      "74226    74226  60770  tt0061944  nm0223081\n",
      "        level_0  index     tconst    writers\n",
      "14039     14039  10410  tt0010548  nm0073592\n",
      "17615     17615  12443  tt0012619  nm0505590\n",
      "127277   127277  52577  tt0053560  nm0736325\n",
      "131516   131516  54034  tt0055042  nm1318749\n",
      "131518   131518  54034  tt0055042  nm1320539\n"
     ]
    }
   ],
   "source": [
    "#Add primary key columns - director\n",
    "df_director_lookup = directors_flat\n",
    "df_director_lookup = df_director_lookup.reset_index()\n",
    "df_director_lookup = df_director_lookup.reset_index()\n",
    "\n",
    "\n",
    "#Limit to only titles of interest\n",
    "df_director_lookup = df_director_lookup.loc[df_director_lookup['tconst'].isin(title_ids)]\n",
    "\n",
    "#Limit to only directors of interest\n",
    "df_director_lookup = df_director_lookup.loc[df_director_lookup['directors'].isin(director_ids)]\n",
    "\n",
    "print(df_director_lookup.head())\n",
    "\n",
    "#Add primary key columns - writer\n",
    "df_writer_lookup = writers_flat\n",
    "df_writer_lookup = df_writer_lookup.reset_index()\n",
    "df_writer_lookup = df_writer_lookup.reset_index()\n",
    "\n",
    "#Limit to only titles of interest\n",
    "df_writer_lookup = df_writer_lookup.loc[df_writer_lookup['tconst'].isin(title_ids)]\n",
    "\n",
    "#Limit to only writers of interest\n",
    "df_writer_lookup = df_writer_lookup.loc[df_writer_lookup['writers'].isin(writer_ids)]\n",
    "\n",
    "print(df_writer_lookup.head())"
   ]
  },
  {
   "cell_type": "code",
   "execution_count": 5,
   "metadata": {},
   "outputs": [
    {
     "name": "stdout",
     "output_type": "stream",
     "text": [
      "       director_lookup_id   title_id director_id\n",
      "10889               10889  tt0010323   nm0927468\n",
      "14180               14180  tt0013442   nm0003638\n",
      "16151               16151  tt0015324   nm0000036\n",
      "16504               16504  tt0015648   nm0001178\n",
      "18084               18084  tt0017136   nm0000485\n",
      "       writer_lookup_id   title_id  writer_id\n",
      "418                 418  tt0000417  nm0894523\n",
      "419                 419  tt0000417  nm0920229\n",
      "13663             13663  tt0010323  nm0562346\n",
      "13664             13664  tt0010323  nm0417917\n",
      "17133             17133  tt0012349  nm0000122\n"
     ]
    }
   ],
   "source": [
    "#Strip down to necessary columns\n",
    "df_director_lookup = df_director_lookup[['level_0','tconst','directors']]\n",
    "df_writer_lookup = df_writer_lookup[['level_0','tconst','writers']]\n",
    "\n",
    "#Rename columns\n",
    "df_director_lookup.columns = ['director_lookup_id', 'title_id', 'director_id']\n",
    "df_writer_lookup.columns = ['writer_lookup_id','title_id', 'writer_id']\n",
    "print(df_director_lookup.head())\n",
    "print(df_writer_lookup.head())"
   ]
  },
  {
   "cell_type": "code",
   "execution_count": 6,
   "metadata": {},
   "outputs": [],
   "source": [
    "#Output to csv, omitting the index column\n",
    "df_director_lookup.to_csv('app_data/director_lookup.csv', index=False)\n",
    "df_writer_lookup.to_csv('app_data/writer_lookup.csv', index=False)"
   ]
  },
  {
   "cell_type": "code",
   "execution_count": 7,
   "metadata": {},
   "outputs": [
    {
     "name": "stdout",
     "output_type": "stream",
     "text": [
      "['director_lookup_id', 'title_id', 'director_id']\n",
      "['writer_lookup_id', 'title_id', 'writer_id']\n"
     ]
    }
   ],
   "source": [
    "#Print column headers for manual population in MySQL Workbench\n",
    "print(list(df_director_lookup))\n",
    "print(list(df_writer_lookup))"
   ]
  }
 ],
 "metadata": {
  "kernelspec": {
   "display_name": "Python 3",
   "language": "python",
   "name": "python3"
  },
  "language_info": {
   "codemirror_mode": {
    "name": "ipython",
    "version": 3
   },
   "file_extension": ".py",
   "mimetype": "text/x-python",
   "name": "python",
   "nbconvert_exporter": "python",
   "pygments_lexer": "ipython3",
   "version": "3.7.0"
  }
 },
 "nbformat": 4,
 "nbformat_minor": 2
}
