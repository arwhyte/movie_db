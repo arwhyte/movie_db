{
 "cells": [
  {
   "cell_type": "code",
   "execution_count": null,
   "metadata": {},
   "outputs": [],
   "source": [
    "#THESE SCRIPTS TAKE US FROM RAW DATA TO THE TABLES WE HAVE IN OUR SCHEMA - SEE movie_db_model.png"
   ]
  },
  {
   "cell_type": "code",
   "execution_count": 1,
   "metadata": {},
   "outputs": [],
   "source": [
    "import pandas as pd\n",
    "import numpy as np\n",
    "from itertools import chain"
   ]
  },
  {
   "cell_type": "code",
   "execution_count": 2,
   "metadata": {},
   "outputs": [
    {
     "name": "stderr",
     "output_type": "stream",
     "text": [
      "c:\\python37\\lib\\site-packages\\IPython\\core\\interactiveshell.py:3020: DtypeWarning: Columns (5) have mixed types. Specify dtype option on import or set low_memory=False.\n",
      "  interactivity=interactivity, compiler=compiler, result=result)\n"
     ]
    },
    {
     "name": "stdout",
     "output_type": "stream",
     "text": [
      "['tconst', 'titleType', 'primaryTitle', 'originalTitle', 'isAdult', 'startYear', 'endYear', 'runtimeMinutes', 'genres']\n",
      "['tconst', 'averageRating', 'numVotes']\n"
     ]
    }
   ],
   "source": [
    "df_title_basics = pd.read_csv('raw_data/title_basics.tsv', sep='\\t')\n",
    "print(list(df_title_basics))\n",
    "df_title_ratings = pd.read_csv('raw_data/title_ratings.tsv', sep='\\t')\n",
    "print(list(df_title_ratings))"
   ]
  },
  {
   "cell_type": "code",
   "execution_count": 3,
   "metadata": {},
   "outputs": [],
   "source": [
    "df_title_basics=df_title_basics.merge(df_title_ratings,on='tconst')"
   ]
  },
  {
   "cell_type": "code",
   "execution_count": 4,
   "metadata": {
    "scrolled": true
   },
   "outputs": [
    {
     "name": "stdout",
     "output_type": "stream",
     "text": [
      "         title_id titleType                             primaryTitle  \\\n",
      "571839  tt1975866     short                              Cuddle Club   \n",
      "179685  tt0323536     short                             The Outlands   \n",
      "617109  tt2356920     short                   Laugh! Paws! Be Happy!   \n",
      "881901  tt8713710   tvMovie  Hill Bill, Mind Noodler - Live in Vegas   \n",
      "677873  tt3360332     short          Spiti esoteriko: House Internal   \n",
      "\n",
      "                                  originalTitle  isAdult startYear endYear  \\\n",
      "571839                              Cuddle Club        0      2011      \\N   \n",
      "179685                             The Outlands        0      2002      \\N   \n",
      "617109                   Laugh! Paws! Be Happy!        0      2012      \\N   \n",
      "881901  Hill Bill, Mind Noodler - Live in Vegas        0      2018      \\N   \n",
      "677873          Spiti esoteriko: House Internal        0      2014      \\N   \n",
      "\n",
      "       runtimeMinutes        genres  averageRating  numVotes  \n",
      "571839             \\N         Short           10.0         5  \n",
      "179685             \\N         Short           10.0         7  \n",
      "617109             22  Comedy;Short           10.0        12  \n",
      "881901             \\N        Comedy           10.0        21  \n",
      "677873             12   Drama;Short           10.0         7  \n"
     ]
    }
   ],
   "source": [
    "#Rename title columns\n",
    "df_title_basics.columns=['title_id', 'titleType', 'primaryTitle', 'originalTitle', 'isAdult', 'startYear', 'endYear', 'runtimeMinutes', 'genres', 'averageRating', 'numVotes']\n",
    "\n",
    "#Replace all comman with semicolons to enable database import later\n",
    "df_title_basics['genres'] = df_title_basics['genres'].str.replace(',', ';')\n",
    "\n",
    "#Filter out null startYear values\n",
    "df_title_basics = df_title_basics.loc[~df_title_basics['startYear'].isin(['\\\\N'])]\n",
    "\n",
    "#Filter out non films or TV shows\n",
    "df_title_basics = df_title_basics.loc[~df_title_basics['titleType'].isin(['video', 'videoGame', 'tvEpisode'])]\n",
    "\n",
    "#Change votes and rating to numeric data types\n",
    "df_title_basics['numVotes'] = df_title_basics['numVotes'].astype(str).astype(int)\n",
    "df_title_basics['averageRating'] = df_title_basics['averageRating'].astype(str).astype(float)\n",
    "\n",
    "#Sort by number of votes\n",
    "df_title_basics = df_title_basics.sort_values('numVotes', ascending=False)\n",
    "\n",
    "#then descending by rating\n",
    "df_title_basics = df_title_basics.sort_values('averageRating', ascending=False)\n",
    "\n",
    "#Drop duplicates\n",
    "df_title_basics = df_title_basics.drop_duplicates(subset=['primaryTitle', 'startYear'])\n",
    "\n",
    "#Cut out all but the top 10000 records\n",
    "df_title_basics = df_title_basics.head(5000)\n",
    "\n",
    "#Then output to csv\n",
    "print(df_title_basics.head())\n",
    "df_title_basics.to_csv('app_data/title.csv', index=False)"
   ]
  },
  {
   "cell_type": "code",
   "execution_count": 5,
   "metadata": {},
   "outputs": [
    {
     "name": "stdout",
     "output_type": "stream",
     "text": [
      "['title_id', 'titleType', 'primaryTitle', 'originalTitle', 'isAdult', 'startYear', 'endYear', 'runtimeMinutes', 'genres', 'averageRating', 'numVotes']\n"
     ]
    }
   ],
   "source": [
    "#print column headers for manual population in MySQL workbench\n",
    "print(list(df_title_basics))"
   ]
  }
 ],
 "metadata": {
  "kernelspec": {
   "display_name": "Python 3",
   "language": "python",
   "name": "python3"
  },
  "language_info": {
   "codemirror_mode": {
    "name": "ipython",
    "version": 3
   },
   "file_extension": ".py",
   "mimetype": "text/x-python",
   "name": "python",
   "nbconvert_exporter": "python",
   "pygments_lexer": "ipython3",
   "version": "3.7.0"
  }
 },
 "nbformat": 4,
 "nbformat_minor": 2
}
