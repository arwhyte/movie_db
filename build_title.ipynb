{
 "cells": [
  {
   "cell_type": "code",
   "execution_count": null,
   "metadata": {},
   "outputs": [],
   "source": [
    "#THESE SCRIPTS TAKE US FROM RAW DATA TO THE TABLES WE HAVE IN OUR SCHEMA - SEE movie_db_model.png"
   ]
  },
  {
   "cell_type": "code",
   "execution_count": 1,
   "metadata": {},
   "outputs": [
    {
     "name": "stderr",
     "output_type": "stream",
     "text": [
      "c:\\python37\\lib\\site-packages\\ipykernel\\parentpoller.py:116: UserWarning: Parent poll failed.  If the frontend dies,\n",
      "                the kernel may be left running.  Please let us know\n",
      "                about your system (bitness, Python, etc.) at\n",
      "                ipython-dev@scipy.org\n",
      "  ipython-dev@scipy.org\"\"\")\n"
     ]
    }
   ],
   "source": [
    "import pandas as pd\n",
    "import numpy as np\n",
    "from itertools import chain"
   ]
  },
  {
   "cell_type": "code",
   "execution_count": 2,
   "metadata": {},
   "outputs": [
    {
     "name": "stderr",
     "output_type": "stream",
     "text": [
      "c:\\python37\\lib\\site-packages\\IPython\\core\\interactiveshell.py:3020: DtypeWarning: Columns (5) have mixed types. Specify dtype option on import or set low_memory=False.\n",
      "  interactivity=interactivity, compiler=compiler, result=result)\n"
     ]
    },
    {
     "name": "stdout",
     "output_type": "stream",
     "text": [
      "['tconst', 'titleType', 'primaryTitle', 'originalTitle', 'isAdult', 'startYear', 'endYear', 'runtimeMinutes', 'genres']\n",
      "['tconst', 'averageRating', 'numVotes']\n"
     ]
    }
   ],
   "source": [
    "df_title_basics = pd.read_csv('raw_data/title_basics.tsv', sep='\\t')\n",
    "print(list(df_title_basics))\n",
    "df_title_ratings = pd.read_csv('raw_data/title_ratings.tsv', sep='\\t')\n",
    "print(list(df_title_ratings))"
   ]
  },
  {
   "cell_type": "code",
   "execution_count": 3,
   "metadata": {},
   "outputs": [],
   "source": [
    "df_title_basics=df_title_basics.merge(df_title_ratings,on='tconst')"
   ]
  },
  {
   "cell_type": "code",
   "execution_count": 4,
   "metadata": {
    "scrolled": true
   },
   "outputs": [
    {
     "name": "stdout",
     "output_type": "stream",
     "text": [
      "         title_id titleType              primaryTitle  \\\n",
      "79660   tt0111161     movie  The Shawshank Redemption   \n",
      "236682  tt0468569     movie           The Dark Knight   \n",
      "481204  tt1375666     movie                 Inception   \n",
      "95608   tt0137523     movie                Fight Club   \n",
      "79446   tt0110912     movie              Pulp Fiction   \n",
      "\n",
      "                   originalTitle  isAdult startYear endYear runtimeMinutes  \\\n",
      "79660   The Shawshank Redemption        0      1994      \\N            142   \n",
      "236682           The Dark Knight        0      2008      \\N            152   \n",
      "481204                 Inception        0      2010      \\N            148   \n",
      "95608                 Fight Club        0      1999      \\N            139   \n",
      "79446               Pulp Fiction        0      1994      \\N            154   \n",
      "\n",
      "                         genres  averageRating  numVotes  \n",
      "79660                     Drama            9.3   2016942  \n",
      "236682       Action;Crime;Drama            9.0   1985076  \n",
      "481204  Action;Adventure;Sci-Fi            8.8   1764998  \n",
      "95608                     Drama            8.8   1613595  \n",
      "79446               Crime;Drama            8.9   1574405  \n"
     ]
    }
   ],
   "source": [
    "#Rename title columns\n",
    "df_title_basics.columns=['title_id', 'titleType', 'primaryTitle', 'originalTitle', 'isAdult', 'startYear', 'endYear', 'runtimeMinutes', 'genres', 'averageRating', 'numVotes']\n",
    "\n",
    "#Replace all comman with semicolons to enable database import later\n",
    "df_title_basics['genres'] = df_title_basics['genres'].str.replace(',', ';')\n",
    "\n",
    "#Filter out null startYear values\n",
    "df_title_basics = df_title_basics.loc[~df_title_basics['startYear'].isin(['\\\\N'])]\n",
    "\n",
    "#Change votes and rating to numeric data types\n",
    "df_title_basics['numVotes'] = df_title_basics['numVotes'].astype(str).astype(int)\n",
    "df_title_basics['averageRating'] = df_title_basics['averageRating'].astype(str).astype(float)\n",
    "\n",
    "#Sort descending by rating\n",
    "df_title_basics = df_title_basics.sort_values('averageRating', ascending=False)\n",
    "\n",
    "#then by number of votes\n",
    "df_title_basics = df_title_basics.sort_values('numVotes', ascending=False)\n",
    "\n",
    "#Drop duplicates\n",
    "df_title_basics = df_title_basics.drop_duplicates(subset=['title_id'])\n",
    "\n",
    "#Cut out all but the top 10000 records\n",
    "df_title_basics = df_title_basics.head(5000)\n",
    "\n",
    "#Then output to csv\n",
    "print(df_title_basics.head())\n",
    "df_title_basics.to_csv('app_data/title.csv', index=False)"
   ]
  },
  {
   "cell_type": "code",
   "execution_count": 10,
   "metadata": {},
   "outputs": [
    {
     "name": "stdout",
     "output_type": "stream",
     "text": [
      "['title_id', 'titleType', 'primaryTitle', 'originalTitle', 'isAdult', 'startYear', 'endYear', 'runtimeMinutes', 'genres']\n"
     ]
    }
   ],
   "source": [
    "#print column headers for manual population in MySQL workbench\n",
    "print(list(df_title_basics))"
   ]
  }
 ],
 "metadata": {
  "kernelspec": {
   "display_name": "Python 3",
   "language": "python",
   "name": "python3"
  },
  "language_info": {
   "codemirror_mode": {
    "name": "ipython",
    "version": 3
   },
   "file_extension": ".py",
   "mimetype": "text/x-python",
   "name": "python",
   "nbconvert_exporter": "python",
   "pygments_lexer": "ipython3",
   "version": "3.7.0"
  }
 },
 "nbformat": 4,
 "nbformat_minor": 2
}
