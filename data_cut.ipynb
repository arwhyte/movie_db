{
 "cells": [
  {
   "cell_type": "code",
   "execution_count": null,
   "metadata": {},
   "outputs": [],
   "source": [
    "#THESE SCRIPTS TAKE US FROM RAW DATA TO THE TABLES WE HAVE IN OUR SCHEMA - SEE movie_db_model.png"
   ]
  },
  {
   "cell_type": "code",
   "execution_count": 1,
   "metadata": {},
   "outputs": [
    {
     "name": "stderr",
     "output_type": "stream",
     "text": [
      "c:\\python37\\lib\\site-packages\\ipykernel\\parentpoller.py:116: UserWarning: Parent poll failed.  If the frontend dies,\n",
      "                the kernel may be left running.  Please let us know\n",
      "                about your system (bitness, Python, etc.) at\n",
      "                ipython-dev@scipy.org\n",
      "  ipython-dev@scipy.org\"\"\")\n"
     ]
    }
   ],
   "source": [
    "import pandas as pd\n",
    "import numpy as np\n",
    "from itertools import chain"
   ]
  },
  {
   "cell_type": "code",
   "execution_count": 2,
   "metadata": {},
   "outputs": [
    {
     "name": "stdout",
     "output_type": "stream",
     "text": [
      "['nconst', 'primaryName', 'birthYear', 'deathYear', 'primaryProfession', 'knownForTitles']\n"
     ]
    }
   ],
   "source": [
    "##BEGIN CREATION OF DIRECTOR_LOOKUP AND WRITER_LOOKUP TABLES\n",
    "df_name_basics = pd.read_csv('raw_data/name_basics.tsv', sep='\\t')\n",
    "print(list(df_name_basics))"
   ]
  },
  {
   "cell_type": "code",
   "execution_count": 3,
   "metadata": {},
   "outputs": [
    {
     "name": "stdout",
     "output_type": "stream",
     "text": [
      "      nconst      primaryName birthYear deathYear  \\\n",
      "0  nm0000001     Fred Astaire      1899      1987   \n",
      "1  nm0000002    Lauren Bacall      1924      2014   \n",
      "2  nm0000003  Brigitte Bardot      1934        \\N   \n",
      "3  nm0000004     John Belushi      1949      1982   \n",
      "4  nm0000005   Ingmar Bergman      1918      2007   \n",
      "5  nm0000006   Ingrid Bergman      1915      1982   \n",
      "6  nm0000007  Humphrey Bogart      1899      1957   \n",
      "7  nm0000008    Marlon Brando      1924      2004   \n",
      "8  nm0000009   Richard Burton      1925      1984   \n",
      "9  nm0000010     James Cagney      1899      1986   \n",
      "\n",
      "                primaryProfession                           knownForTitles  \n",
      "0  soundtrack,actor,miscellaneous  tt0072308,tt0050419,tt0053137,tt0043044  \n",
      "1              actress,soundtrack  tt0037382,tt0071877,tt0117057,tt0038355  \n",
      "2     actress,soundtrack,producer  tt0049189,tt0054452,tt0057345,tt0059956  \n",
      "3         actor,writer,soundtrack  tt0080455,tt0072562,tt0077975,tt0078723  \n",
      "4           writer,director,actor  tt0060827,tt0083922,tt0050976,tt0050986  \n",
      "5     actress,soundtrack,producer  tt0034583,tt0038787,tt0071877,tt0038109  \n",
      "6       actor,soundtrack,producer  tt0043265,tt0033870,tt0034583,tt0037382  \n",
      "7       actor,soundtrack,director  tt0068646,tt0047296,tt0078788,tt0070849  \n",
      "8       actor,producer,soundtrack  tt0087803,tt0057877,tt0059749,tt0061184  \n",
      "9       actor,soundtrack,director  tt0035575,tt0055256,tt0029870,tt0031867  \n"
     ]
    }
   ],
   "source": [
    "print(df_name_basics[:10])"
   ]
  },
  {
   "cell_type": "code",
   "execution_count": 4,
   "metadata": {},
   "outputs": [
    {
     "name": "stdout",
     "output_type": "stream",
     "text": [
      "      nconst      primaryName birthYear deathYear primaryProfession\n",
      "0  nm0000001     Fred Astaire      1899      1987        soundtrack\n",
      "0  nm0000001     Fred Astaire      1899      1987             actor\n",
      "0  nm0000001     Fred Astaire      1899      1987     miscellaneous\n",
      "1  nm0000002    Lauren Bacall      1924      2014           actress\n",
      "1  nm0000002    Lauren Bacall      1924      2014        soundtrack\n",
      "2  nm0000003  Brigitte Bardot      1934        \\N           actress\n",
      "2  nm0000003  Brigitte Bardot      1934        \\N        soundtrack\n",
      "2  nm0000003  Brigitte Bardot      1934        \\N          producer\n",
      "3  nm0000004     John Belushi      1949      1982             actor\n",
      "3  nm0000004     John Belushi      1949      1982            writer\n",
      "3  nm0000004     John Belushi      1949      1982        soundtrack\n",
      "4  nm0000005   Ingmar Bergman      1918      2007            writer\n",
      "4  nm0000005   Ingmar Bergman      1918      2007          director\n",
      "4  nm0000005   Ingmar Bergman      1918      2007             actor\n",
      "5  nm0000006   Ingrid Bergman      1915      1982           actress\n",
      "5  nm0000006   Ingrid Bergman      1915      1982        soundtrack\n",
      "5  nm0000006   Ingrid Bergman      1915      1982          producer\n",
      "6  nm0000007  Humphrey Bogart      1899      1957             actor\n",
      "6  nm0000007  Humphrey Bogart      1899      1957        soundtrack\n",
      "6  nm0000007  Humphrey Bogart      1899      1957          producer\n"
     ]
    }
   ],
   "source": [
    "#one row for each comma separated cell value, inspired by:\n",
    "#https://stackoverflow.com/questions/50731229/split-cell-into-multiple-rows-in-pandas-dataframe\n",
    "\n",
    "# return list from series of comma-separated strings\n",
    "def chainer(s):\n",
    "    return list(chain.from_iterable(s.str.split(',')))\n",
    "\n",
    "#Need to convert 'primaryProfession' column to string, for some reason\n",
    "df_name_basics['primaryProfession'] = df_name_basics['primaryProfession'].astype(str)\n",
    "\n",
    "# calculate lengths of splits\n",
    "lens = df_name_basics['primaryProfession'].str.split(',').map(len)\n",
    "\n",
    "# create new dataframe, repeating or chaining as appropriate\n",
    "                        #Repeating columns\n",
    "df_name_basics_flat = pd.DataFrame({'nconst': np.repeat(df_name_basics['nconst'], lens),\n",
    "                    'primaryName': np.repeat(df_name_basics['primaryName'], lens),\n",
    "                    'birthYear': np.repeat(df_name_basics['birthYear'], lens),\n",
    "                    'deathYear': np.repeat(df_name_basics['deathYear'], lens),\n",
    "                    #Newly split column\n",
    "                    'primaryProfession': chainer(df_name_basics['primaryProfession'])})\n",
    "\n",
    "\n",
    "print(df_name_basics_flat[:20])\n"
   ]
  },
  {
   "cell_type": "code",
   "execution_count": 5,
   "metadata": {},
   "outputs": [
    {
     "name": "stdout",
     "output_type": "stream",
     "text": [
      "      nconst      primaryName birthYear deathYear primaryProfession\n",
      "0  nm0000001     Fred Astaire      1899      1987             actor\n",
      "1  nm0000002    Lauren Bacall      1924      2014           actress\n",
      "2  nm0000003  Brigitte Bardot      1934        \\N           actress\n",
      "3  nm0000004     John Belushi      1949      1982             actor\n",
      "4  nm0000005   Ingmar Bergman      1918      2007             actor\n",
      "       nconst       primaryName birthYear deathYear primaryProfession\n",
      "4   nm0000005    Ingmar Bergman      1918      2007          director\n",
      "7   nm0000008     Marlon Brando      1924      2004          director\n",
      "9   nm0000010      James Cagney      1899      1986          director\n",
      "18  nm0000019  Federico Fellini      1920      1993          director\n",
      "23  nm0000024      John Gielgud      1904      2000          director\n",
      "       nconst       primaryName birthYear deathYear primaryProfession\n",
      "3   nm0000004      John Belushi      1949      1982            writer\n",
      "4   nm0000005    Ingmar Bergman      1918      2007            writer\n",
      "18  nm0000019  Federico Fellini      1920      1993            writer\n",
      "23  nm0000024      John Gielgud      1904      2000            writer\n",
      "26  nm0000027     Alec Guinness      1914      2000            writer\n"
     ]
    }
   ],
   "source": [
    "#Filter on actors, writers, and directors, all in their own dataframes\n",
    "df_actors = df_name_basics_flat.loc[df_name_basics_flat['primaryProfession'].isin(['actor','actress'])]\n",
    "df_directors = df_name_basics_flat.loc[df_name_basics_flat['primaryProfession'].isin(['director'])]\n",
    "df_writers = df_name_basics_flat.loc[df_name_basics_flat['primaryProfession'].isin(['writer'])]\n",
    "\n",
    "print(df_actors.head())\n",
    "print(df_directors.head())\n",
    "print(df_writers.head())"
   ]
  },
  {
   "cell_type": "code",
   "execution_count": 6,
   "metadata": {},
   "outputs": [
    {
     "name": "stdout",
     "output_type": "stream",
     "text": [
      "    actor_id      primaryName birthYear deathYear\n",
      "0  nm0000001     Fred Astaire      1899      1987\n",
      "1  nm0000002    Lauren Bacall      1924      2014\n",
      "2  nm0000003  Brigitte Bardot      1934        \\N\n",
      "3  nm0000004     John Belushi      1949      1982\n",
      "4  nm0000005   Ingmar Bergman      1918      2007\n",
      "--------------\n",
      "   director_id       primaryName birthYear deathYear\n",
      "4    nm0000005    Ingmar Bergman      1918      2007\n",
      "7    nm0000008     Marlon Brando      1924      2004\n",
      "9    nm0000010      James Cagney      1899      1986\n",
      "18   nm0000019  Federico Fellini      1920      1993\n",
      "23   nm0000024      John Gielgud      1904      2000\n",
      "--------------\n",
      "    writer_id       primaryName birthYear deathYear\n",
      "3   nm0000004      John Belushi      1949      1982\n",
      "4   nm0000005    Ingmar Bergman      1918      2007\n",
      "18  nm0000019  Federico Fellini      1920      1993\n",
      "23  nm0000024      John Gielgud      1904      2000\n",
      "26  nm0000027     Alec Guinness      1914      2000\n"
     ]
    }
   ],
   "source": [
    "#Rename actor columns\n",
    "df_actors.columns=['actor_id','primaryName','birthYear','deathYear','primaryProfession']\n",
    "#Drop the primaryProfession column\n",
    "df_actors = df_actors.drop(['primaryProfession'], axis=1)\n",
    "#Drop duplicates\n",
    "df_actors = df_actors.drop_duplicates(subset=['actor_id'])\n",
    "#Then output to csv\n",
    "print(df_actors.head())\n",
    "print(\"--------------\")\n",
    "df_actors.to_csv('app_data/actor.csv', index=False)\n",
    "\n",
    "\n",
    "#Do the same for directors and writers\n",
    "df_directors.columns=['director_id','primaryName','birthYear','deathYear','primaryProfession']\n",
    "df_directors = df_directors.drop(['primaryProfession'], axis=1)\n",
    "#Drop duplicates\n",
    "df_directors = df_directors.drop_duplicates(subset=['director_id'])\n",
    "print(df_directors.head())\n",
    "print(\"--------------\")\n",
    "df_directors.to_csv('app_data/director.csv', index=False)\n",
    "\n",
    "df_writers.columns=['writer_id','primaryName','birthYear','deathYear','primaryProfession']\n",
    "df_writers = df_writers.drop(['primaryProfession'], axis=1)\n",
    "#Drop duplicates\n",
    "df_writers = df_writers.drop_duplicates(subset=['writer_id'])\n",
    "print(df_writers.head())\n",
    "df_writers.to_csv('app_data/writer.csv', index=False)"
   ]
  },
  {
   "cell_type": "code",
   "execution_count": 26,
   "metadata": {},
   "outputs": [
    {
     "name": "stdout",
     "output_type": "stream",
     "text": [
      "['actor_id', 'primaryName', 'birthYear', 'deathYear']\n",
      "['director_id', 'primaryName', 'birthYear', 'deathYear']\n",
      "['writer_id', 'primaryName', 'birthYear', 'deathYear']\n"
     ]
    }
   ],
   "source": [
    "#Print columns headers for manual population into MySQL workbench\n",
    "print(list(df_actors))\n",
    "print(list(df_directors))\n",
    "print(list(df_writers))"
   ]
  }
 ],
 "metadata": {
  "kernelspec": {
   "display_name": "Python 3",
   "language": "python",
   "name": "python3"
  },
  "language_info": {
   "codemirror_mode": {
    "name": "ipython",
    "version": 3
   },
   "file_extension": ".py",
   "mimetype": "text/x-python",
   "name": "python",
   "nbconvert_exporter": "python",
   "pygments_lexer": "ipython3",
   "version": "3.7.0"
  }
 },
 "nbformat": 4,
 "nbformat_minor": 2
}
